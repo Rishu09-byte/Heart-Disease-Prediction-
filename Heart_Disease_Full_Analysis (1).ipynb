{
 "cells": [
  {
   "cell_type": "markdown",
   "id": "17104382",
   "metadata": {},
   "source": [
    "# 🩺 Heart Disease Prediction Using Supervised Learning\n",
    "This notebook demonstrates how to build machine learning models to predict heart disease based on healthcare data.\n",
    "\n",
    "**Models Implemented:**\n",
    "- Support Vector Machine (SVM)\n",
    "- Random Forest\n",
    "- Gradient Boosting (GBM)\n",
    "\n",
    "**Evaluation Metrics:** Accuracy, Precision, Recall, F1-score, AUC-ROC\n",
    "\n",
    "**Dataset Source:** UCI Machine Learning Repository (Cleveland Dataset)"
   ]
  },
  {
   "cell_type": "code",
   "execution_count": null,
   "id": "0b74ac5b",
   "metadata": {},
   "outputs": [],
   "source": [
    "import pandas as pd\n",
    "import numpy as np\n",
    "import matplotlib.pyplot as plt\n",
    "import seaborn as sns\n",
    "from sklearn.model_selection import train_test_split, GridSearchCV\n",
    "from sklearn.preprocessing import StandardScaler\n",
    "from sklearn.metrics import classification_report, roc_auc_score, roc_curve\n",
    "from sklearn.svm import SVC\n",
    "from sklearn.ensemble import RandomForestClassifier, GradientBoostingClassifier\n",
    "import warnings\n",
    "warnings.filterwarnings('ignore')"
   ]
  },
  {
   "cell_type": "code",
   "execution_count": null,
   "id": "d03d72a5",
   "metadata": {},
   "outputs": [],
   "source": [
    "column_names = [\"age\", \"sex\", \"cp\", \"trestbps\", \"chol\", \"fbs\", \"restecg\",\n",
    "    \"thalach\", \"exang\", \"oldpeak\", \"slope\", \"ca\", \"thal\", \"target\"]\n",
    "url = \"https://raw.githubusercontent.com/rahulrajpl/UCI-Heart-Disease-Data-Cleaned/main/heart.csv\"\n",
    "df = pd.read_csv(url, names=column_names)\n",
    "df.replace('?', np.nan, inplace=True)\n",
    "df.dropna(inplace=True)\n",
    "df['ca'] = pd.to_numeric(df['ca'])\n",
    "df['thal'] = pd.to_numeric(df['thal'])\n",
    "df['target'] = df['target'].apply(lambda x: 1 if int(x) > 0 else 0)\n",
    "df.head()"
   ]
  },
  {
   "cell_type": "code",
   "execution_count": null,
   "id": "507f2a00",
   "metadata": {},
   "outputs": [],
   "source": [
    "X = df.drop(\"target\", axis=1)\n",
    "y = df[\"target\"]\n",
    "X = pd.get_dummies(X, columns=[\"cp\", \"thal\", \"slope\"], drop_first=True)\n",
    "scaler = StandardScaler()\n",
    "X_scaled = scaler.fit_transform(X)\n",
    "X_train, X_test, y_train, y_test = train_test_split(X_scaled, y, test_size=0.2, random_state=42)"
   ]
  },
  {
   "cell_type": "code",
   "execution_count": null,
   "id": "3b26bb0c",
   "metadata": {},
   "outputs": [],
   "source": [
    "param_grid_svm = {'C': [1], 'gamma': ['scale'], 'kernel': ['rbf']}\n",
    "param_grid_rf = {'n_estimators': [100], 'max_depth': [None], 'min_samples_split': [2]}\n",
    "param_grid_gbm = {'n_estimators': [100], 'learning_rate': [0.1], 'max_depth': [3]}\n",
    "\n",
    "grid_svm = GridSearchCV(SVC(probability=True), param_grid_svm, cv=5)\n",
    "grid_rf = GridSearchCV(RandomForestClassifier(), param_grid_rf, cv=5)\n",
    "grid_gbm = GridSearchCV(GradientBoostingClassifier(), param_grid_gbm, cv=5)\n",
    "\n",
    "grid_svm.fit(X_train, y_train)\n",
    "grid_rf.fit(X_train, y_train)\n",
    "grid_gbm.fit(X_train, y_train)"
   ]
  },
  {
   "cell_type": "code",
   "execution_count": null,
   "id": "45a335c0",
   "metadata": {},
   "outputs": [],
   "source": [
    "from sklearn.metrics import classification_report, roc_auc_score, roc_curve\n",
    "\n",
    "def evaluate_model(model, name):\n",
    "    y_pred = model.predict(X_test)\n",
    "    y_prob = model.predict_proba(X_test)[:, 1]\n",
    "    report = classification_report(y_test, y_pred, output_dict=True)\n",
    "    auc = roc_auc_score(y_test, y_prob)\n",
    "    return {\n",
    "        'Model': name,\n",
    "        'Accuracy': report['accuracy'],\n",
    "        'Precision': report['1']['precision'],\n",
    "        'Recall': report['1']['recall'],\n",
    "        'F1-score': report['1']['f1-score'],\n",
    "        'AUC-ROC': auc\n",
    "    }\n",
    "\n",
    "results = [\n",
    "    evaluate_model(grid_svm.best_estimator_, \"SVM (RBF)\"),\n",
    "    evaluate_model(grid_rf.best_estimator_, \"Random Forest\"),\n",
    "    evaluate_model(grid_gbm.best_estimator_, \"Gradient Boosting\")\n",
    "]\n",
    "results_df = pd.DataFrame(results)\n",
    "results_df.round(4)"
   ]
  },
  {
   "cell_type": "code",
   "execution_count": null,
   "id": "03098a2e",
   "metadata": {},
   "outputs": [],
   "source": [
    "plt.figure(figsize=(10, 6))\n",
    "models = [grid_svm, grid_rf, grid_gbm]\n",
    "labels = ['SVM', 'Random Forest', 'Gradient Boosting']\n",
    "\n",
    "for model, label in zip(models, labels):\n",
    "    y_prob = model.predict_proba(X_test)[:, 1]\n",
    "    fpr, tpr, _ = roc_curve(y_test, y_prob)\n",
    "    plt.plot(fpr, tpr, label=f'{label}')\n",
    "\n",
    "plt.plot([0, 1], [0, 1], 'k--')\n",
    "plt.xlabel('False Positive Rate')\n",
    "plt.ylabel('True Positive Rate')\n",
    "plt.title('ROC Curve Comparison')\n",
    "plt.legend()\n",
    "plt.grid(True)\n",
    "plt.show()"
   ]
  }
 ],
 "metadata": {},
 "nbformat": 4,
 "nbformat_minor": 5
}
